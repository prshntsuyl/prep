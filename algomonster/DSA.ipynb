{
 "cells": [
  {
   "cell_type": "markdown",
   "id": "67399a1c",
   "metadata": {},
   "source": [
    "# Basics"
   ]
  },
  {
   "cell_type": "markdown",
   "id": "4bb9e20d",
   "metadata": {},
   "source": [
    "## JAVA DSA\n",
    "\n",
    "<a id='java_dsa'></a>"
   ]
  },
  {
   "cell_type": "markdown",
   "id": "92d7719d",
   "metadata": {},
   "source": [
    "### Stack"
   ]
  },
  {
   "cell_type": "code",
   "execution_count": 12,
   "id": "52ebf12b",
   "metadata": {
    "code_folding": []
   },
   "outputs": [
    {
     "name": "stdout",
     "output_type": "stream",
     "text": [
      "-----stack-method!-----\n",
      "4\n",
      "0\n"
     ]
    }
   ],
   "source": [
    "    private static void stackMethod() {\n",
    "        System.out.println(\"-----stack-method!-----\");\n",
    "        //Array deque is good implementation for stack\n",
    "        Deque<Integer> stackObj = new ArrayDeque<Integer>();\n",
    "        stackObj.push(0);\n",
    "        stackObj.push(1);\n",
    "        stackObj.push(2);\n",
    "        stackObj.push(3);\n",
    "        stackObj.push(4);\n",
    "\n",
    "        System.out.println(stackObj.peek());\n",
    "        stackObj.pop();\n",
    "        stackObj.pop();\n",
    "        stackObj.pop();\n",
    "        stackObj.pop();\n",
    "        System.out.println(stackObj.peek());\n",
    "    }\n",
    "    \n",
    "stackMethod()"
   ]
  },
  {
   "cell_type": "markdown",
   "id": "9bb33d9e",
   "metadata": {},
   "source": [
    "#### Stack using array"
   ]
  },
  {
   "cell_type": "code",
   "execution_count": 15,
   "id": "6e693fee",
   "metadata": {},
   "outputs": [
    {
     "name": "stdout",
     "output_type": "stream",
     "text": [
      "5\n"
     ]
    }
   ],
   "source": [
    "    private static void stackUsingArray() {        \n",
    "        // Initializes the stack\n",
    "        ArrayList<Integer> stack = new ArrayList<>();\n",
    "        \n",
    "        // Pushing 5 into the stack\n",
    "        stack.add(5);\n",
    "        \n",
    "        // Look at the top item of the stack and print it\n",
    "        System.out.println(stack.get(stack.size() - 1));\n",
    "        \n",
    "        // Removing the top item from the stack\n",
    "        stack.remove(stack.size() - 1);\n",
    "    }\n",
    "    \n",
    "stackUsingArray()"
   ]
  },
  {
   "cell_type": "markdown",
   "id": "35ad807b",
   "metadata": {},
   "source": [
    "### Array List"
   ]
  },
  {
   "cell_type": "code",
   "execution_count": 3,
   "id": "82b44602",
   "metadata": {},
   "outputs": [
    {
     "name": "stdout",
     "output_type": "stream",
     "text": [
      "20\n",
      "6\n",
      "13\n",
      "5\n",
      "----\n",
      "20\n",
      "6\n",
      "13\n",
      "5\n"
     ]
    }
   ],
   "source": [
    "    private static void arrayList() {\n",
    "        \n",
    "        // initialising the array\n",
    "        int[] numbers = { 20, 6, 13, 5 };\n",
    "        \n",
    "        // simple for loop goes through indices so we fetch elements using indices\n",
    "        for (int i = 0; i < numbers.length; i++) {\n",
    "            int number = numbers[i];\n",
    "            System.out.println(number);\n",
    "        }\n",
    "         \n",
    "            System.out.println(\"----\");   \n",
    "        // for-each loop directly fetches elements\n",
    "        for (int number : numbers) {\n",
    "            System.out.println(number);\n",
    "        }\n",
    "    }\n",
    "    \n",
    "    arrayList();"
   ]
  },
  {
   "cell_type": "markdown",
   "id": "2cfa873c",
   "metadata": {},
   "source": [
    "### Hash Map"
   ]
  },
  {
   "cell_type": "code",
   "execution_count": 12,
   "id": "fc4a3da5",
   "metadata": {},
   "outputs": [
    {
     "name": "stdout",
     "output_type": "stream",
     "text": [
      "28\n"
     ]
    }
   ],
   "source": [
    "    private static void hashmap() {\n",
    "        \n",
    "        // Initialize a new hash map\n",
    "        HashMap<String, Integer> hashmap = new HashMap<>();\n",
    "        \n",
    "        // Set the entry represented by \"John\" to 28\n",
    "        hashmap.put(\"John\", 28);\n",
    "        \n",
    "        // Check if \"John\" is in the hash map\n",
    "        if (hashmap.containsKey(\"John\")) {\n",
    "            // Print the entry represented by \"John\"\n",
    "            System.out.println(hashmap.get(\"John\"));\n",
    "        }\n",
    "    }\n",
    "\n",
    "hashmap();"
   ]
  },
  {
   "cell_type": "markdown",
   "id": "9549d053",
   "metadata": {},
   "source": [
    "### Queue"
   ]
  },
  {
   "cell_type": "code",
   "execution_count": 6,
   "id": "86bb681e",
   "metadata": {},
   "outputs": [
    {
     "name": "stdout",
     "output_type": "stream",
     "text": [
      "4\n",
      "2\n"
     ]
    }
   ],
   "source": [
    "    private static void queue() {\n",
    "        \n",
    "        // Initialize a new deque\n",
    "        ArrayDeque<Integer> queue = new ArrayDeque<>();\n",
    "        \n",
    "        // Add 2 to the end of the deque\n",
    "        queue.add(2);\n",
    "        // Add 4 to the front of the deque\n",
    "        queue.addFirst(4);\n",
    "        \n",
    "        // Look at the front of the deque and print it\n",
    "        System.out.println(queue.peek());\n",
    "        // Look at the end of the deque and print it\n",
    "        System.out.println(queue.peekLast());\n",
    "        // Remove the front of the deque\n",
    "        \n",
    "        queue.poll();\n",
    "        // Remove the end of the deque\n",
    "        queue.pollLast();\n",
    "        \n",
    "    }\n",
    "\n",
    "queue();"
   ]
  },
  {
   "cell_type": "markdown",
   "id": "13dfa0bd",
   "metadata": {},
   "source": [
    "### Linked List"
   ]
  },
  {
   "cell_type": "code",
   "execution_count": 11,
   "id": "9f2d813b",
   "metadata": {},
   "outputs": [
    {
     "name": "stdout",
     "output_type": "stream",
     "text": [
      "1232\n",
      "1232\n"
     ]
    }
   ],
   "source": [
    "static class LinkedListNode {\n",
    "        public int val;\n",
    "        public LinkedListNode next;\n",
    "\n",
    "        public LinkedListNode(int val) {\n",
    "            this.val = val;\n",
    "        }\n",
    "    }\n",
    "\n",
    "LinkedListNode llNode0 = new LinkedListNode(1231);\n",
    "LinkedListNode llNode1 = new LinkedListNode(1232);\n",
    "llNode1.next = llNode1;\n",
    "\n",
    "System.out.println(llNode1.val);\n",
    "System.out.println(llNode1.next.val);"
   ]
  },
  {
   "cell_type": "markdown",
   "id": "fd072878",
   "metadata": {},
   "source": [
    "### Tree DS"
   ]
  },
  {
   "cell_type": "code",
   "execution_count": 4,
   "id": "caf9f82c",
   "metadata": {},
   "outputs": [
    {
     "name": "stdout",
     "output_type": "stream",
     "text": [
      "100\n"
     ]
    }
   ],
   "source": [
    "static class TreeNode {\n",
    "    \n",
    "    public int val;\n",
    "    public TreeNode left;\n",
    "    public TreeNode right;\n",
    "    \n",
    "    public TreeNode(int val) {\n",
    "        this.val = val;\n",
    "    }\n",
    "    \n",
    "    public TreeNode() {\n",
    "    }\n",
    "    \n",
    "}\n",
    "\n",
    "\n",
    "TreeNode tn0 = new TreeNode();\n",
    "tn0.val = 0;\n",
    "\n",
    "TreeNode tn1 = new TreeNode();\n",
    "tn1.val = 100;\n",
    "\n",
    "TreeNode tnb1 = new TreeNode();\n",
    "tnb1.val = -100;\n",
    "\n",
    "tn0.left = tnb1;\n",
    "tn0.right = tn1;\n",
    "\n",
    "tn1.left = tn0;\n",
    "tn1.right = null;\n",
    "\n",
    "tnb1.left = null;\n",
    "tnb1.right = tn0;\n",
    "\n",
    "System.out.println(tn0.right.val);"
   ]
  },
  {
   "cell_type": "markdown",
   "id": "79572c5a",
   "metadata": {},
   "source": [
    "#### Nary Tree Node\n",
    "\n",
    "Pretty straighforward"
   ]
  },
  {
   "cell_type": "code",
   "execution_count": 4,
   "id": "9145d871",
   "metadata": {
    "cell_style": "center"
   },
   "outputs": [],
   "source": [
    "    static class TreeNodeNary {\n",
    "        public int val;\n",
    "        public ArrayList<TreeNode> children;\n",
    "\n",
    "        public TreeNodeNary(int val) {\n",
    "            this.val = val;\n",
    "            this.children = new ArrayList<TreeNode>();\n",
    "        }\n",
    "\n",
    "    }\n",
    "\n",
    "\n",
    "System.out.println()\n"
   ]
  },
  {
   "cell_type": "code",
   "execution_count": null,
   "id": "171f1b4e",
   "metadata": {},
   "outputs": [],
   "source": []
  },
  {
   "cell_type": "markdown",
   "id": "d6526068",
   "metadata": {
    "heading_collapsed": true
   },
   "source": [
    "# 30 Day Plan | striver"
   ]
  },
  {
   "cell_type": "markdown",
   "id": "8771610f",
   "metadata": {
    "hidden": true
   },
   "source": [
    "## Arrays"
   ]
  },
  {
   "cell_type": "markdown",
   "id": "9632c3cb",
   "metadata": {
    "hidden": true
   },
   "source": [
    "### Part 1"
   ]
  },
  {
   "cell_type": "markdown",
   "id": "5edfa8a2",
   "metadata": {
    "hidden": true
   },
   "source": [
    "- [ ] [Set Matrix Zeroes](https://takeuforward.org/data-structure/set-matrix-zero/)<br>\n",
    "- [ ] [Pascal Triangle](https://takeuforward.org/data-structure/set-matrix-zero/)<br>\n",
    "- [ ] [Next Permutation](https://takeuforward.org/data-structure/set-matrix-zero/)<br>\n",
    "- [ ] [Kadane's Alogrithm](https://takeuforward.org/data-structure/set-matrix-zero/)<br>\n",
    "- [ ] [Sort an array of 0's 1's and 2's](https://takeuforward.org/data-structure/set-matrix-zero/)<br>\n",
    "- [ ] [Stock buy and sell](https://takeuforward.org/data-structure/set-matrix-zero/)<br>"
   ]
  },
  {
   "cell_type": "markdown",
   "id": "4a9a3d01",
   "metadata": {
    "hidden": true
   },
   "source": [
    "#### Set Matrix Zeroes"
   ]
  },
  {
   "cell_type": "markdown",
   "id": "e4f4650b",
   "metadata": {
    "hidden": true
   },
   "source": [
    "### Part 2"
   ]
  },
  {
   "cell_type": "markdown",
   "id": "981414c1",
   "metadata": {
    "hidden": true
   },
   "source": [
    "### Part 3"
   ]
  },
  {
   "cell_type": "markdown",
   "id": "2b03b3cb",
   "metadata": {
    "hidden": true
   },
   "source": [
    "### Part 4"
   ]
  },
  {
   "cell_type": "markdown",
   "id": "c44187db",
   "metadata": {
    "hidden": true
   },
   "source": [
    "## Linked Lists"
   ]
  },
  {
   "cell_type": "markdown",
   "id": "9559d8c3",
   "metadata": {
    "hidden": true
   },
   "source": [
    "## Greedy Algorithms"
   ]
  },
  {
   "cell_type": "markdown",
   "id": "55ac8524",
   "metadata": {
    "hidden": true
   },
   "source": [
    "## Recursion"
   ]
  },
  {
   "cell_type": "markdown",
   "id": "cb9d53ea",
   "metadata": {
    "hidden": true
   },
   "source": [
    "## Binary Search"
   ]
  },
  {
   "cell_type": "markdown",
   "id": "5a4708a5",
   "metadata": {
    "hidden": true
   },
   "source": [
    "## Heaps"
   ]
  },
  {
   "cell_type": "markdown",
   "id": "e743e34c",
   "metadata": {
    "hidden": true
   },
   "source": [
    "## Stacks and Queues"
   ]
  },
  {
   "cell_type": "markdown",
   "id": "dd4e2021",
   "metadata": {
    "hidden": true
   },
   "source": [
    "## String"
   ]
  },
  {
   "cell_type": "markdown",
   "id": "8a24fa15",
   "metadata": {
    "hidden": true
   },
   "source": [
    "## Binary tree"
   ]
  },
  {
   "cell_type": "markdown",
   "id": "3e1b43d6",
   "metadata": {
    "hidden": true
   },
   "source": [
    "## BSTs"
   ]
  },
  {
   "cell_type": "markdown",
   "id": "94faf47b",
   "metadata": {
    "hidden": true
   },
   "source": [
    "## Graph"
   ]
  },
  {
   "cell_type": "markdown",
   "id": "0e36a4d8",
   "metadata": {
    "hidden": true
   },
   "source": [
    "## DP"
   ]
  },
  {
   "cell_type": "markdown",
   "id": "876ac51d",
   "metadata": {
    "hidden": true
   },
   "source": [
    "### Trie"
   ]
  },
  {
   "cell_type": "markdown",
   "id": "0f2ffe02",
   "metadata": {
    "hidden": true
   },
   "source": [
    "\n",
    "# DSA"
   ]
  },
  {
   "cell_type": "markdown",
   "id": "7a57e33d",
   "metadata": {
    "hidden": true
   },
   "source": [
    "notion://notion.so/suryanshpr/SolutionsInWriting-Answers-661b75354e9a4f899d43504479736021\n",
    "- [link](http://notion.so/suryanshpr/SolutionsInWriting-Answers-661b75354e9a4f899d43504479736021)\n",
    "\n"
   ]
  },
  {
   "cell_type": "markdown",
   "id": "3f77d227",
   "metadata": {
    "hidden": true
   },
   "source": [
    "## Getting Started\n",
    "\n",
    "[JAVA DSA](#java_dsa) "
   ]
  },
  {
   "cell_type": "markdown",
   "id": "f4a5d2d1",
   "metadata": {
    "hidden": true
   },
   "source": [
    "## BFS"
   ]
  },
  {
   "cell_type": "markdown",
   "id": "ae54383e",
   "metadata": {
    "hidden": true
   },
   "source": [
    "## Sorting "
   ]
  },
  {
   "cell_type": "markdown",
   "id": "01c0be5a",
   "metadata": {
    "hidden": true
   },
   "source": [
    "## Two Pointer"
   ]
  },
  {
   "cell_type": "markdown",
   "id": "b4132f91",
   "metadata": {
    "hidden": true
   },
   "source": [
    "## Heapify"
   ]
  },
  {
   "cell_type": "markdown",
   "id": "5f37dee3",
   "metadata": {
    "hidden": true
   },
   "source": [
    "## DP"
   ]
  },
  {
   "cell_type": "markdown",
   "id": "ef0c945d",
   "metadata": {
    "hidden": true
   },
   "source": [
    "## Backtracking"
   ]
  },
  {
   "cell_type": "markdown",
   "id": "5960f58e",
   "metadata": {
    "hidden": true
   },
   "source": [
    "## Advanced DS"
   ]
  },
  {
   "cell_type": "markdown",
   "id": "37e0cdfa",
   "metadata": {
    "hidden": true
   },
   "source": [
    "### LRU Cache"
   ]
  },
  {
   "cell_type": "markdown",
   "id": "7a07611c",
   "metadata": {
    "hidden": true
   },
   "source": [
    "### Tester"
   ]
  }
 ],
 "metadata": {
  "kernelspec": {
   "display_name": "Java",
   "language": "java",
   "name": "java"
  },
  "language_info": {
   "codemirror_mode": "java",
   "file_extension": ".jshell",
   "mimetype": "text/x-java-source",
   "name": "Java",
   "pygments_lexer": "java",
   "version": "11.0.15+0"
  },
  "toc": {
   "base_numbering": 1,
   "nav_menu": {},
   "number_sections": true,
   "sideBar": true,
   "skip_h1_title": false,
   "title_cell": "Table of Contents",
   "title_sidebar": "Contents",
   "toc_cell": false,
   "toc_position": {},
   "toc_section_display": true,
   "toc_window_display": true
  },
  "varInspector": {
   "cols": {
    "lenName": 16,
    "lenType": 16,
    "lenVar": 40
   },
   "kernels_config": {
    "python": {
     "delete_cmd_postfix": "",
     "delete_cmd_prefix": "del ",
     "library": "var_list.py",
     "varRefreshCmd": "print(var_dic_list())"
    },
    "r": {
     "delete_cmd_postfix": ") ",
     "delete_cmd_prefix": "rm(",
     "library": "var_list.r",
     "varRefreshCmd": "cat(var_dic_list()) "
    }
   },
   "types_to_exclude": [
    "module",
    "function",
    "builtin_function_or_method",
    "instance",
    "_Feature"
   ],
   "window_display": false
  }
 },
 "nbformat": 4,
 "nbformat_minor": 5
}
