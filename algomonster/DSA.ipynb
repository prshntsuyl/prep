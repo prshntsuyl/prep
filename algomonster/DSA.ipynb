{
 "cells": [
  {
   "cell_type": "markdown",
   "id": "d6526068",
   "metadata": {},
   "source": [
    "# 30 Day Plan"
   ]
  },
  {
   "cell_type": "markdown",
   "id": "8771610f",
   "metadata": {},
   "source": [
    "## Arrays"
   ]
  },
  {
   "cell_type": "markdown",
   "id": "9632c3cb",
   "metadata": {},
   "source": [
    "### Part 1"
   ]
  },
  {
   "cell_type": "markdown",
   "id": "5edfa8a2",
   "metadata": {},
   "source": [
    "- [ ] [Set Matrix Zeroes](https://takeuforward.org/data-structure/set-matrix-zero/)<br>\n",
    "- [ ] [Pascal Triangle](https://takeuforward.org/data-structure/set-matrix-zero/)<br>\n",
    "- [ ] [Next Permutation](https://takeuforward.org/data-structure/set-matrix-zero/)<br>\n",
    "- [ ] [Kadane's Alogrithm](https://takeuforward.org/data-structure/set-matrix-zero/)<br>\n",
    "- [ ] [Sort an array of 0's 1's and 2's](https://takeuforward.org/data-structure/set-matrix-zero/)<br>\n",
    "- [ ] [Stock buy and sell](https://takeuforward.org/data-structure/set-matrix-zero/)<br>"
   ]
  },
  {
   "cell_type": "markdown",
   "id": "4a9a3d01",
   "metadata": {},
   "source": [
    "#### Set Matrix Zeroes"
   ]
  },
  {
   "cell_type": "markdown",
   "id": "e4f4650b",
   "metadata": {},
   "source": [
    "### Part 2"
   ]
  },
  {
   "cell_type": "markdown",
   "id": "981414c1",
   "metadata": {},
   "source": [
    "### Part 3"
   ]
  },
  {
   "cell_type": "markdown",
   "id": "2b03b3cb",
   "metadata": {},
   "source": [
    "### Part 4"
   ]
  },
  {
   "cell_type": "markdown",
   "id": "c44187db",
   "metadata": {},
   "source": [
    "## Linked Lists"
   ]
  },
  {
   "cell_type": "markdown",
   "id": "9559d8c3",
   "metadata": {},
   "source": [
    "## Greedy Algorithms"
   ]
  },
  {
   "cell_type": "markdown",
   "id": "55ac8524",
   "metadata": {},
   "source": [
    "## Recursion"
   ]
  },
  {
   "cell_type": "markdown",
   "id": "cb9d53ea",
   "metadata": {},
   "source": [
    "## Binary Search"
   ]
  },
  {
   "cell_type": "markdown",
   "id": "5a4708a5",
   "metadata": {},
   "source": [
    "## Heaps"
   ]
  },
  {
   "cell_type": "markdown",
   "id": "e743e34c",
   "metadata": {},
   "source": [
    "## Stacks and Queues"
   ]
  },
  {
   "cell_type": "markdown",
   "id": "dd4e2021",
   "metadata": {},
   "source": [
    "## String"
   ]
  },
  {
   "cell_type": "markdown",
   "id": "8a24fa15",
   "metadata": {},
   "source": [
    "## Binary tree"
   ]
  },
  {
   "cell_type": "markdown",
   "id": "3e1b43d6",
   "metadata": {},
   "source": [
    "## BSTs"
   ]
  },
  {
   "cell_type": "markdown",
   "id": "94faf47b",
   "metadata": {},
   "source": [
    "## Graph"
   ]
  },
  {
   "cell_type": "markdown",
   "id": "0e36a4d8",
   "metadata": {},
   "source": [
    "## DP"
   ]
  },
  {
   "cell_type": "markdown",
   "id": "876ac51d",
   "metadata": {},
   "source": [
    "### Trie"
   ]
  },
  {
   "cell_type": "markdown",
   "id": "0f2ffe02",
   "metadata": {},
   "source": [
    "# DSA"
   ]
  },
  {
   "cell_type": "markdown",
   "id": "7a57e33d",
   "metadata": {},
   "source": [
    "notion://notion.so/suryanshpr/SolutionsInWriting-Answers-661b75354e9a4f899d43504479736021"
   ]
  },
  {
   "cell_type": "markdown",
   "id": "3f77d227",
   "metadata": {},
   "source": [
    "## Getting Started"
   ]
  },
  {
   "cell_type": "markdown",
   "id": "f4a5d2d1",
   "metadata": {},
   "source": [
    "## BFS"
   ]
  },
  {
   "cell_type": "markdown",
   "id": "ae54383e",
   "metadata": {},
   "source": [
    "## Sorting "
   ]
  },
  {
   "cell_type": "markdown",
   "id": "01c0be5a",
   "metadata": {},
   "source": [
    "## Two Pointer"
   ]
  },
  {
   "cell_type": "markdown",
   "id": "b4132f91",
   "metadata": {},
   "source": [
    "## Heapify"
   ]
  },
  {
   "cell_type": "markdown",
   "id": "5f37dee3",
   "metadata": {},
   "source": [
    "## DP"
   ]
  },
  {
   "cell_type": "markdown",
   "id": "ef0c945d",
   "metadata": {},
   "source": [
    "## Backtracking"
   ]
  },
  {
   "cell_type": "markdown",
   "id": "5960f58e",
   "metadata": {},
   "source": [
    "## Advanced DS"
   ]
  },
  {
   "cell_type": "markdown",
   "id": "37e0cdfa",
   "metadata": {},
   "source": [
    "### LRU Cache"
   ]
  },
  {
   "cell_type": "markdown",
   "id": "7a07611c",
   "metadata": {},
   "source": [
    "### Tester"
   ]
  }
 ],
 "metadata": {
  "kernelspec": {
   "display_name": "Java",
   "language": "java",
   "name": "java"
  },
  "language_info": {
   "codemirror_mode": "java",
   "file_extension": ".jshell",
   "mimetype": "text/x-java-source",
   "name": "Java",
   "pygments_lexer": "java",
   "version": "11.0.15+0"
  },
  "toc": {
   "base_numbering": 1,
   "nav_menu": {},
   "number_sections": true,
   "sideBar": true,
   "skip_h1_title": false,
   "title_cell": "Table of Contents",
   "title_sidebar": "Contents",
   "toc_cell": false,
   "toc_position": {},
   "toc_section_display": true,
   "toc_window_display": true
  }
 },
 "nbformat": 4,
 "nbformat_minor": 5
}
