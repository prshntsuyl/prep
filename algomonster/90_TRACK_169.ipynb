{
 "cells": [
  {
   "cell_type": "markdown",
   "id": "372cc3a7",
   "metadata": {
    "toc": true
   },
   "source": [
    "<h1>Table of Contents<span class=\"tocSkip\"></span></h1>\n",
    "<div class=\"toc\"><ul class=\"toc-item\"><li><ul class=\"toc-item\"><li><span><a href=\"#Guide\" data-toc-modified-id=\"Guide-0.1\"><span class=\"toc-item-num\">0.1&nbsp;&nbsp;</span>Guide</a></span><ul class=\"toc-item\"><li><span><a href=\"#9-Week-Prep-|-10-Questions-per-week-|-2-Questions-per-day\" data-toc-modified-id=\"9-Week-Prep-|-10-Questions-per-week-|-2-Questions-per-day-0.1.1\"><span class=\"toc-item-num\">0.1.1&nbsp;&nbsp;</span>9 Week Prep | 10 Questions per week | 2 Questions per day</a></span></li></ul></li><li><span><a href=\"#TRACK\" data-toc-modified-id=\"TRACK-0.2\"><span class=\"toc-item-num\">0.2&nbsp;&nbsp;</span>TRACK</a></span><ul class=\"toc-item\"><li><span><a href=\"#Calendar-|-1/90-|-1/27-|-0/45-|-0/18\" data-toc-modified-id=\"Calendar-|-1/90-|-1/27-|-0/45-|-0/18-0.2.1\"><span class=\"toc-item-num\">0.2.1&nbsp;&nbsp;</span>Calendar | 1/90 | 1/27 | 0/45 | 0/18</a></span><ul class=\"toc-item\"><li><span><a href=\"#Week-1\" data-toc-modified-id=\"Week-1-0.2.1.1\"><span class=\"toc-item-num\">0.2.1.1&nbsp;&nbsp;</span>Week 1</a></span></li><li><span><a href=\"#Week-2\" data-toc-modified-id=\"Week-2-0.2.1.2\"><span class=\"toc-item-num\">0.2.1.2&nbsp;&nbsp;</span>Week 2</a></span></li><li><span><a href=\"#Week-3\" data-toc-modified-id=\"Week-3-0.2.1.3\"><span class=\"toc-item-num\">0.2.1.3&nbsp;&nbsp;</span>Week 3</a></span></li><li><span><a href=\"#Week-4\" data-toc-modified-id=\"Week-4-0.2.1.4\"><span class=\"toc-item-num\">0.2.1.4&nbsp;&nbsp;</span>Week 4</a></span></li></ul></li></ul></li></ul></li><li><span><a href=\"#Week-1\" data-toc-modified-id=\"Week-1-1\"><span class=\"toc-item-num\">1&nbsp;&nbsp;</span>Week 1</a></span></li><li><span><a href=\"#Week-2\" data-toc-modified-id=\"Week-2-2\"><span class=\"toc-item-num\">2&nbsp;&nbsp;</span>Week 2</a></span></li><li><span><a href=\"#Week-3\" data-toc-modified-id=\"Week-3-3\"><span class=\"toc-item-num\">3&nbsp;&nbsp;</span>Week 3</a></span></li><li><span><a href=\"#Week-4\" data-toc-modified-id=\"Week-4-4\"><span class=\"toc-item-num\">4&nbsp;&nbsp;</span>Week 4</a></span></li><li><span><a href=\"#Week-5\" data-toc-modified-id=\"Week-5-5\"><span class=\"toc-item-num\">5&nbsp;&nbsp;</span>Week 5</a></span></li><li><span><a href=\"#Week-6\" data-toc-modified-id=\"Week-6-6\"><span class=\"toc-item-num\">6&nbsp;&nbsp;</span>Week 6</a></span></li><li><span><a href=\"#Week-7\" data-toc-modified-id=\"Week-7-7\"><span class=\"toc-item-num\">7&nbsp;&nbsp;</span>Week 7</a></span></li><li><span><a href=\"#Week-8\" data-toc-modified-id=\"Week-8-8\"><span class=\"toc-item-num\">8&nbsp;&nbsp;</span>Week 8</a></span></li><li><span><a href=\"#Week-9\" data-toc-modified-id=\"Week-9-9\"><span class=\"toc-item-num\">9&nbsp;&nbsp;</span>Week 9</a></span></li></ul></div>"
   ]
  },
  {
   "cell_type": "markdown",
   "id": "966b678c",
   "metadata": {},
   "source": [
    "## Guide\n",
    "\n",
    "### 9 Week Prep | 10 Questions per week | 2 Questions per day\n",
    "\n",
    "- 3 Easy\n",
    "- 5 Medium\n",
    "- 2 Hard\n",
    "\n",
    "\n",
    "```\n",
    "Easy-Medium\n",
    "Hard\n",
    "Easy-Medium\n",
    "Hard\n",
    "Easy-Medium\n",
    "Medium\n",
    "Medium\n",
    "```"
   ]
  },
  {
   "cell_type": "markdown",
   "id": "e34da8c2",
   "metadata": {},
   "source": [
    "## TRACK\n",
    "\n",
    "- [90-Ninty](https://www.techinterviewhandbook.org/grind75?grouping=weeks&hours=8&weeks=8)\n",
    "- [169-Exhaustive](https://www.techinterviewhandbook.org/grind75?grouping=weeks&hours=8&weeks=26)"
   ]
  },
  {
   "cell_type": "markdown",
   "id": "8aa863df",
   "metadata": {},
   "source": [
    "### Calendar | 1/90 | 1/27 | 0/45 | 0/18\n",
    "\n",
    "🔘 | ☑️ | ❌\n",
    "\n",
    "| Date | First | Second |\n",
    "| --- | --- | --- |\n",
    "|  | W1 |  |\n",
    "| 2-Jul | ☑️ Easy | 🔘 Medium |\n",
    "| 3-Jul | - | 🔘 Hard |\n",
    "| 4-Jul | 🔘 Easy | 🔘 Medium |\n",
    "| 5-Jul | - | 🔘 Hard |\n",
    "| 6-Jul | 🔘 Easy | 🔘 Medium |\n",
    "| 7-Jul | - | 🔘 Medium |\n",
    "| 8-Jul | - | 🔘 Medium |\n",
    "|  | W2 |  |\n",
    "| 2-Jul | 🔘 Easy | 🔘 Medium |\n",
    "| 3-Jul | - | 🔘 Hard |\n",
    "| 4-Jul | 🔘 Easy | 🔘 Medium |\n",
    "| 5-Jul | - | 🔘 Hard |\n",
    "| 6-Jul | 🔘 Easy | 🔘 Medium |\n",
    "| 7-Jul | - | 🔘 Medium |\n",
    "| 8-Jul | - | 🔘 Medium |\n",
    "|  | W3 |  |\n",
    "| 2-Jul | 🔘 Easy | 🔘 Medium |\n",
    "| 3-Jul | - | 🔘 Hard |\n",
    "| 4-Jul | 🔘 Easy | 🔘 Medium |\n",
    "| 5-Jul | - | 🔘 Hard |\n",
    "| 6-Jul | 🔘 Easy | 🔘 Medium |\n",
    "| 7-Jul | - | 🔘 Medium |\n",
    "| 8-Jul | - | 🔘 Medium |\n",
    "|  | W4 |  |\n",
    "| 2-Jul | 🔘 Easy | 🔘 Medium |\n",
    "| 3-Jul | - | 🔘 Hard |\n",
    "| 4-Jul | 🔘 Easy | 🔘 Medium |\n",
    "| 5-Jul | - | 🔘 Hard |\n",
    "| 6-Jul | 🔘 Easy | 🔘 Medium |\n",
    "| 7-Jul | - | 🔘 Medium |\n",
    "| 8-Jul | - | 🔘 Medium |\n",
    "|  | W5 |  |\n",
    "| 2-Jul | 🔘 Easy | 🔘 Medium |\n",
    "| 3-Jul | - | 🔘 Hard |\n",
    "| 4-Jul | 🔘 Easy | 🔘 Medium |\n",
    "| 5-Jul | - | 🔘 Hard |\n",
    "| 6-Jul | 🔘 Easy | 🔘 Medium |\n",
    "| 7-Jul | - | 🔘 Medium |\n",
    "| 8-Jul | - | 🔘 Medium |\n",
    "|  | W6 |  |\n",
    "| 2-Jul | 🔘 Easy | 🔘 Medium |\n",
    "| 3-Jul | - | 🔘 Hard |\n",
    "| 4-Jul | 🔘 Easy | 🔘 Medium |\n",
    "| 5-Jul | - | 🔘 Hard |\n",
    "| 6-Jul | 🔘 Easy | 🔘 Medium |\n",
    "| 7-Jul | - | 🔘 Medium |\n",
    "| 8-Jul | - | 🔘 Medium |\n",
    "|  | W7 |  |\n",
    "| 2-Jul | 🔘 Easy | 🔘 Medium |\n",
    "| 3-Jul | - | 🔘 Hard |\n",
    "| 4-Jul | 🔘 Easy | 🔘 Medium |\n",
    "| 5-Jul | - | 🔘 Hard |\n",
    "| 6-Jul | 🔘 Easy | 🔘 Medium |\n",
    "| 7-Jul | - | 🔘 Medium |\n",
    "| 8-Jul | - | 🔘 Medium |\n",
    "|  | W8 |  |\n",
    "| 2-Jul | 🔘 Easy | 🔘 Medium |\n",
    "| 3-Jul | - | 🔘 Hard |\n",
    "| 4-Jul | 🔘 Easy | 🔘 Medium |\n",
    "| 5-Jul | - | 🔘 Hard |\n",
    "| 6-Jul | 🔘 Easy | 🔘 Medium |\n",
    "| 7-Jul | - | 🔘 Medium |\n",
    "| 8-Jul | - | 🔘 Medium |\n",
    "|  | W9 |  |\n",
    "| 2-Jul | 🔘 Easy | 🔘 Medium |\n",
    "| 3-Jul | - | 🔘 Hard |\n",
    "| 4-Jul | 🔘 Easy | 🔘 Medium |\n",
    "| 5-Jul | - | 🔘 Hard |\n",
    "| 6-Jul | 🔘 Easy | 🔘 Medium |\n",
    "| 7-Jul | - | 🔘 Medium |\n",
    "| 8-Jul | - | 🔘 Medium |"
   ]
  },
  {
   "cell_type": "markdown",
   "id": "1316c414",
   "metadata": {},
   "source": [
    "\n",
    "https://www.techinterviewhandbook.org/coding-interview-study-plan/#week-1---4-topical-study--practice"
   ]
  },
  {
   "cell_type": "markdown",
   "id": "85da46e2",
   "metadata": {
    "heading_collapsed": true
   },
   "source": [
    "#### Week 1\n",
    "\n",
    "| Topic                                    | Priority | Time required |\n",
    "| ---------------------------------------- | -------- | ------------- |\n",
    "| [Array](https://www.techinterviewhandbook.org/algorithms/array/)           | High     | 2 hours       |\n",
    "| [String](./algorithms/string.md)         | High     | 3 hours       |\n",
    "| [Hash Table](./algorithms/hash-table.md) | Mid      | 3 hours       |\n",
    "| [Recursion](./algorithms/recursion.md)   | Mid      | 3 hours       |\n",
    "\n",
    "#### Week 2\n",
    "\n",
    "| Topic | Priority | Time required |\n",
    "| --- | --- | --- |\n",
    "| [Sorting and searching](./algorithms/sorting-searching.md) | High | 3 hours |\n",
    "| [Matrix](./algorithms/matrix.md) | High | 1 hour |\n",
    "| [Linked List](./algorithms/linked-list.md) | Mid | 3 hours |\n",
    "| [Queue](./algorithms/queue.md) | Mid | 2 hours |\n",
    "| [Stack](./algorithms/stack.md) | Mid | 2 hours |\n",
    "\n",
    "#### Week 3\n",
    "\n",
    "| Topic                          | Priority | Time required |\n",
    "| ------------------------------ | -------- | ------------- |\n",
    "| [Tree](./algorithms/tree.md)   | High     | 4 hours       |\n",
    "| [Graph](./algorithms/graph.md) | High     | 4 hours       |\n",
    "| [Heap](./algorithms/heap.md)   | Mid      | 3 hours       |\n",
    "| [Trie](./algorithms/trie.md)   | Mid      | 3 hours       |\n",
    "\n",
    "#### Week 4\n",
    "\n",
    "| Topic | Priority | Time required |\n",
    "| --- | --- | --- |\n",
    "| [Interval](./algorithms/interval.md) | Mid | 2 hours |\n",
    "| [Dynamic programming](./algorithms/dynamic-programming.md) | Low | 4 hours |\n",
    "| [Binary](./algorithms/binary.md) | Low | 2 hours |\n",
    "| [Math](./algorithms/math.md) | Low | 1 hour |\n",
    "| [Geometry](./algorithms/geometry.md) | Low | 1 hour |"
   ]
  },
  {
   "cell_type": "markdown",
   "id": "f4a5f39b",
   "metadata": {},
   "source": [
    "# Week 1"
   ]
  },
  {
   "cell_type": "markdown",
   "id": "4b5eed30",
   "metadata": {},
   "source": [
    "`Day 1`\n",
    "- [x] [Two Sum](https://leetcode.com/problems/two-sum/) `E`\n",
    "- [ ] Second\n"
   ]
  },
  {
   "cell_type": "markdown",
   "id": "be07c527",
   "metadata": {},
   "source": [
    "`Day 2`\n",
    "- [ ] First \n",
    "- [ ] Second\n"
   ]
  },
  {
   "cell_type": "markdown",
   "id": "60d6aede",
   "metadata": {},
   "source": [
    "`Day 3`\n",
    "- [ ] First \n",
    "- [ ] Second\n"
   ]
  },
  {
   "cell_type": "markdown",
   "id": "e42c0b04",
   "metadata": {},
   "source": [
    "`Day 3`\n",
    "- [ ] First \n",
    "- [ ] Second\n"
   ]
  },
  {
   "cell_type": "markdown",
   "id": "1ff43d13",
   "metadata": {},
   "source": [
    "`Day 4`\n",
    "- [ ] First \n",
    "- [ ] Second\n"
   ]
  },
  {
   "cell_type": "markdown",
   "id": "41df669c",
   "metadata": {},
   "source": [
    "`Day 5`\n",
    "- [ ] First \n",
    "- [ ] Second\n"
   ]
  },
  {
   "cell_type": "markdown",
   "id": "dc12f180",
   "metadata": {
    "heading_collapsed": true
   },
   "source": [
    "# Week 2\n"
   ]
  },
  {
   "cell_type": "markdown",
   "id": "51071b57",
   "metadata": {
    "hidden": true
   },
   "source": [
    "`Day 1`\n",
    "- [ ] First \n",
    "- [ ] Second\n"
   ]
  },
  {
   "cell_type": "markdown",
   "id": "c3e7adbf",
   "metadata": {
    "hidden": true
   },
   "source": [
    "`Day 2`\n",
    "- [ ] First \n",
    "- [ ] Second\n"
   ]
  },
  {
   "cell_type": "markdown",
   "id": "47516551",
   "metadata": {
    "hidden": true
   },
   "source": [
    "`Day 3`\n",
    "- [ ] First \n",
    "- [ ] Second\n"
   ]
  },
  {
   "cell_type": "markdown",
   "id": "0c6ab1c8",
   "metadata": {
    "hidden": true
   },
   "source": [
    "`Day 3`\n",
    "- [ ] First \n",
    "- [ ] Second\n"
   ]
  },
  {
   "cell_type": "markdown",
   "id": "58a5a636",
   "metadata": {
    "hidden": true
   },
   "source": [
    "`Day 4`\n",
    "- [ ] First \n",
    "- [ ] Second\n"
   ]
  },
  {
   "cell_type": "markdown",
   "id": "aae4906d",
   "metadata": {
    "hidden": true
   },
   "source": [
    "`Day 5`\n",
    "- [ ] First \n",
    "- [ ] Second\n"
   ]
  },
  {
   "cell_type": "markdown",
   "id": "100eebb5",
   "metadata": {
    "heading_collapsed": true
   },
   "source": [
    "# Week 3"
   ]
  },
  {
   "cell_type": "markdown",
   "id": "05991e46",
   "metadata": {
    "hidden": true
   },
   "source": [
    "`Day 1`\n",
    "- [ ] First \n",
    "- [ ] Second\n"
   ]
  },
  {
   "cell_type": "markdown",
   "id": "f15ccbe6",
   "metadata": {
    "hidden": true
   },
   "source": [
    "`Day 2`\n",
    "- [ ] First \n",
    "- [ ] Second\n"
   ]
  },
  {
   "cell_type": "markdown",
   "id": "d7eaf493",
   "metadata": {
    "hidden": true
   },
   "source": [
    "`Day 3`\n",
    "- [ ] First \n",
    "- [ ] Second\n"
   ]
  },
  {
   "cell_type": "markdown",
   "id": "65d88420",
   "metadata": {
    "hidden": true
   },
   "source": [
    "`Day 3`\n",
    "- [ ] First \n",
    "- [ ] Second\n"
   ]
  },
  {
   "cell_type": "markdown",
   "id": "25fe4df1",
   "metadata": {
    "hidden": true
   },
   "source": [
    "`Day 4`\n",
    "- [ ] First \n",
    "- [ ] Second\n"
   ]
  },
  {
   "cell_type": "markdown",
   "id": "272b9bcb",
   "metadata": {
    "hidden": true
   },
   "source": [
    "`Day 5`\n",
    "- [ ] First \n",
    "- [ ] Second\n"
   ]
  },
  {
   "cell_type": "markdown",
   "id": "af76c96c",
   "metadata": {
    "heading_collapsed": true
   },
   "source": [
    "# Week 4"
   ]
  },
  {
   "cell_type": "markdown",
   "id": "f616106e",
   "metadata": {
    "hidden": true
   },
   "source": [
    "`Day 1`\n",
    "- [ ] First \n",
    "- [ ] Second\n"
   ]
  },
  {
   "cell_type": "markdown",
   "id": "8cfc3c6e",
   "metadata": {
    "hidden": true
   },
   "source": [
    "`Day 2`\n",
    "- [ ] First \n",
    "- [ ] Second\n"
   ]
  },
  {
   "cell_type": "markdown",
   "id": "a19316e7",
   "metadata": {
    "hidden": true
   },
   "source": [
    "`Day 3`\n",
    "- [ ] First \n",
    "- [ ] Second\n"
   ]
  },
  {
   "cell_type": "markdown",
   "id": "c26035ad",
   "metadata": {
    "hidden": true
   },
   "source": [
    "`Day 3`\n",
    "- [ ] First \n",
    "- [ ] Second\n"
   ]
  },
  {
   "cell_type": "markdown",
   "id": "0706a9f4",
   "metadata": {
    "hidden": true
   },
   "source": [
    "`Day 4`\n",
    "- [ ] First \n",
    "- [ ] Second\n"
   ]
  },
  {
   "cell_type": "markdown",
   "id": "72ba9e61",
   "metadata": {
    "hidden": true
   },
   "source": [
    "`Day 5`\n",
    "- [ ] First \n",
    "- [ ] Second\n"
   ]
  },
  {
   "cell_type": "markdown",
   "id": "9ca310fe",
   "metadata": {
    "heading_collapsed": true
   },
   "source": [
    "# Week 5"
   ]
  },
  {
   "cell_type": "markdown",
   "id": "dfd67d31",
   "metadata": {
    "hidden": true
   },
   "source": [
    "`Day 1`\n",
    "- [ ] First \n",
    "- [ ] Second\n"
   ]
  },
  {
   "cell_type": "markdown",
   "id": "969e6e98",
   "metadata": {
    "hidden": true
   },
   "source": [
    "`Day 2`\n",
    "- [ ] First \n",
    "- [ ] Second\n"
   ]
  },
  {
   "cell_type": "markdown",
   "id": "4c676830",
   "metadata": {
    "hidden": true
   },
   "source": [
    "`Day 3`\n",
    "- [ ] First \n",
    "- [ ] Second\n"
   ]
  },
  {
   "cell_type": "markdown",
   "id": "09521c81",
   "metadata": {
    "hidden": true
   },
   "source": [
    "`Day 3`\n",
    "- [ ] First \n",
    "- [ ] Second\n"
   ]
  },
  {
   "cell_type": "markdown",
   "id": "1c8d9133",
   "metadata": {
    "hidden": true
   },
   "source": [
    "`Day 4`\n",
    "- [ ] First \n",
    "- [ ] Second\n"
   ]
  },
  {
   "cell_type": "markdown",
   "id": "22e5c590",
   "metadata": {
    "hidden": true
   },
   "source": [
    "`Day 5`\n",
    "- [ ] First \n",
    "- [ ] Second\n"
   ]
  },
  {
   "cell_type": "markdown",
   "id": "00b04ac4",
   "metadata": {
    "heading_collapsed": true
   },
   "source": [
    "# Week 6"
   ]
  },
  {
   "cell_type": "markdown",
   "id": "d01311c3",
   "metadata": {
    "hidden": true
   },
   "source": [
    "`Day 1`\n",
    "- [ ] First \n",
    "- [ ] Second\n"
   ]
  },
  {
   "cell_type": "markdown",
   "id": "784ea364",
   "metadata": {
    "hidden": true
   },
   "source": [
    "`Day 2`\n",
    "- [ ] First \n",
    "- [ ] Second\n"
   ]
  },
  {
   "cell_type": "markdown",
   "id": "e50e53c4",
   "metadata": {
    "hidden": true
   },
   "source": [
    "`Day 3`\n",
    "- [ ] First \n",
    "- [ ] Second\n"
   ]
  },
  {
   "cell_type": "markdown",
   "id": "4e947044",
   "metadata": {
    "hidden": true
   },
   "source": [
    "`Day 3`\n",
    "- [ ] First \n",
    "- [ ] Second\n"
   ]
  },
  {
   "cell_type": "markdown",
   "id": "ed22da73",
   "metadata": {
    "hidden": true
   },
   "source": [
    "`Day 4`\n",
    "- [ ] First \n",
    "- [ ] Second\n"
   ]
  },
  {
   "cell_type": "markdown",
   "id": "e9ef1151",
   "metadata": {
    "hidden": true
   },
   "source": [
    "`Day 5`\n",
    "- [ ] First \n",
    "- [ ] Second\n"
   ]
  },
  {
   "cell_type": "markdown",
   "id": "5194f77a",
   "metadata": {
    "heading_collapsed": true
   },
   "source": [
    "# Week 7"
   ]
  },
  {
   "cell_type": "markdown",
   "id": "86810178",
   "metadata": {
    "hidden": true
   },
   "source": [
    "`Day 1`\n",
    "- [ ] First \n",
    "- [ ] Second\n"
   ]
  },
  {
   "cell_type": "markdown",
   "id": "12f164c4",
   "metadata": {
    "hidden": true
   },
   "source": [
    "`Day 2`\n",
    "- [ ] First \n",
    "- [ ] Second\n"
   ]
  },
  {
   "cell_type": "markdown",
   "id": "d0c21be7",
   "metadata": {
    "hidden": true
   },
   "source": [
    "`Day 3`\n",
    "- [ ] First \n",
    "- [ ] Second\n"
   ]
  },
  {
   "cell_type": "markdown",
   "id": "f0b6ec8d",
   "metadata": {
    "hidden": true
   },
   "source": [
    "`Day 3`\n",
    "- [ ] First \n",
    "- [ ] Second\n"
   ]
  },
  {
   "cell_type": "markdown",
   "id": "c7b88726",
   "metadata": {
    "hidden": true
   },
   "source": [
    "`Day 4`\n",
    "- [ ] First \n",
    "- [ ] Second\n"
   ]
  },
  {
   "cell_type": "markdown",
   "id": "db54b780",
   "metadata": {
    "hidden": true
   },
   "source": [
    "`Day 5`\n",
    "- [ ] First \n",
    "- [ ] Second\n"
   ]
  },
  {
   "cell_type": "markdown",
   "id": "b1b6e429",
   "metadata": {
    "heading_collapsed": true
   },
   "source": [
    "# Week 8"
   ]
  },
  {
   "cell_type": "markdown",
   "id": "72549c48",
   "metadata": {
    "hidden": true
   },
   "source": [
    "`Day 1`\n",
    "- [ ] First \n",
    "- [ ] Second\n"
   ]
  },
  {
   "cell_type": "markdown",
   "id": "5a8356da",
   "metadata": {
    "hidden": true
   },
   "source": [
    "`Day 2`\n",
    "- [ ] First \n",
    "- [ ] Second\n"
   ]
  },
  {
   "cell_type": "markdown",
   "id": "38a34e8e",
   "metadata": {
    "hidden": true
   },
   "source": [
    "`Day 3`\n",
    "- [ ] First \n",
    "- [ ] Second\n"
   ]
  },
  {
   "cell_type": "markdown",
   "id": "cac53aa2",
   "metadata": {
    "hidden": true
   },
   "source": [
    "`Day 3`\n",
    "- [ ] First \n",
    "- [ ] Second\n"
   ]
  },
  {
   "cell_type": "markdown",
   "id": "9f0e32ca",
   "metadata": {
    "hidden": true
   },
   "source": [
    "`Day 4`\n",
    "- [ ] First \n",
    "- [ ] Second\n"
   ]
  },
  {
   "cell_type": "markdown",
   "id": "4788518a",
   "metadata": {
    "hidden": true
   },
   "source": [
    "`Day 5`\n",
    "- [ ] First \n",
    "- [ ] Second\n"
   ]
  },
  {
   "cell_type": "markdown",
   "id": "40580537",
   "metadata": {
    "heading_collapsed": true
   },
   "source": [
    "# Week 9"
   ]
  },
  {
   "cell_type": "markdown",
   "id": "0fb49915",
   "metadata": {
    "hidden": true
   },
   "source": [
    "`Day 1`\n",
    "- [ ] First \n",
    "- [ ] Second\n"
   ]
  },
  {
   "cell_type": "markdown",
   "id": "01e1e94a",
   "metadata": {
    "hidden": true
   },
   "source": [
    "`Day 2`\n",
    "- [ ] First \n",
    "- [ ] Second\n"
   ]
  },
  {
   "cell_type": "markdown",
   "id": "8ffdae04",
   "metadata": {
    "hidden": true
   },
   "source": [
    "`Day 3`\n",
    "- [ ] First \n",
    "- [ ] Second\n"
   ]
  },
  {
   "cell_type": "markdown",
   "id": "5c72a0a1",
   "metadata": {
    "hidden": true
   },
   "source": [
    "`Day 3`\n",
    "- [ ] First \n",
    "- [ ] Second\n"
   ]
  },
  {
   "cell_type": "markdown",
   "id": "6184b6a2",
   "metadata": {
    "hidden": true
   },
   "source": [
    "`Day 4`\n",
    "- [ ] First \n",
    "- [ ] Second\n"
   ]
  },
  {
   "cell_type": "markdown",
   "id": "af464f18",
   "metadata": {
    "hidden": true
   },
   "source": [
    "`Day 5`\n",
    "- [ ] First \n",
    "- [ ] Second\n"
   ]
  }
 ],
 "metadata": {
  "kernelspec": {
   "display_name": "Java",
   "language": "java",
   "name": "java"
  },
  "language_info": {
   "codemirror_mode": "java",
   "file_extension": ".jshell",
   "mimetype": "text/x-java-source",
   "name": "Java",
   "pygments_lexer": "java",
   "version": "11.0.15+0"
  },
  "toc": {
   "base_numbering": 1,
   "nav_menu": {},
   "number_sections": true,
   "sideBar": true,
   "skip_h1_title": false,
   "title_cell": "Table of Contents",
   "title_sidebar": "Contents",
   "toc_cell": true,
   "toc_position": {
    "height": "calc(100% - 180px)",
    "left": "10px",
    "top": "150px",
    "width": "345.594px"
   },
   "toc_section_display": true,
   "toc_window_display": true
  },
  "varInspector": {
   "cols": {
    "lenName": 16,
    "lenType": 16,
    "lenVar": 40
   },
   "kernels_config": {
    "python": {
     "delete_cmd_postfix": "",
     "delete_cmd_prefix": "del ",
     "library": "var_list.py",
     "varRefreshCmd": "print(var_dic_list())"
    },
    "r": {
     "delete_cmd_postfix": ") ",
     "delete_cmd_prefix": "rm(",
     "library": "var_list.r",
     "varRefreshCmd": "cat(var_dic_list()) "
    }
   },
   "types_to_exclude": [
    "module",
    "function",
    "builtin_function_or_method",
    "instance",
    "_Feature"
   ],
   "window_display": false
  }
 },
 "nbformat": 4,
 "nbformat_minor": 5
}
